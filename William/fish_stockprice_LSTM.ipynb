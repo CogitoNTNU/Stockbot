{
 "nbformat": 4,
 "nbformat_minor": 0,
 "metadata": {
  "colab": {
   "provenance": []
  },
  "kernelspec": {
   "name": "python3",
   "display_name": "Python 3"
  },
  "language_info": {
   "name": "python"
  }
 },
 "cells": [
  {
   "cell_type": "code",
   "execution_count": null,
   "metadata": {
    "colab": {
     "base_uri": "https://localhost:8080/"
    },
    "id": "5Pj9VB1nhPRk",
    "outputId": "cabf6a39-a231-460e-fc95-90991dbfd117"
   },
   "outputs": [
    {
     "output_type": "stream",
     "name": "stdout",
     "text": [
      "Looking in indexes: https://pypi.org/simple, https://us-python.pkg.dev/colab-wheels/public/simple/\n",
      "Requirement already satisfied: yfinance in /usr/local/lib/python3.7/dist-packages (0.1.87)\n",
      "Requirement already satisfied: lxml>=4.5.1 in /usr/local/lib/python3.7/dist-packages (from yfinance) (4.9.1)\n",
      "Requirement already satisfied: numpy>=1.15 in /usr/local/lib/python3.7/dist-packages (from yfinance) (1.21.6)\n",
      "Requirement already satisfied: pandas>=0.24.0 in /usr/local/lib/python3.7/dist-packages (from yfinance) (1.3.5)\n",
      "Requirement already satisfied: multitasking>=0.0.7 in /usr/local/lib/python3.7/dist-packages (from yfinance) (0.0.11)\n",
      "Requirement already satisfied: appdirs>=1.4.4 in /usr/local/lib/python3.7/dist-packages (from yfinance) (1.4.4)\n",
      "Requirement already satisfied: requests>=2.26 in /usr/local/lib/python3.7/dist-packages (from yfinance) (2.28.1)\n",
      "Requirement already satisfied: python-dateutil>=2.7.3 in /usr/local/lib/python3.7/dist-packages (from pandas>=0.24.0->yfinance) (2.8.2)\n",
      "Requirement already satisfied: pytz>=2017.3 in /usr/local/lib/python3.7/dist-packages (from pandas>=0.24.0->yfinance) (2022.6)\n",
      "Requirement already satisfied: six>=1.5 in /usr/local/lib/python3.7/dist-packages (from python-dateutil>=2.7.3->pandas>=0.24.0->yfinance) (1.15.0)\n",
      "Requirement already satisfied: charset-normalizer<3,>=2 in /usr/local/lib/python3.7/dist-packages (from requests>=2.26->yfinance) (2.1.1)\n",
      "Requirement already satisfied: idna<4,>=2.5 in /usr/local/lib/python3.7/dist-packages (from requests>=2.26->yfinance) (2.10)\n",
      "Requirement already satisfied: certifi>=2017.4.17 in /usr/local/lib/python3.7/dist-packages (from requests>=2.26->yfinance) (2022.9.24)\n",
      "Requirement already satisfied: urllib3<1.27,>=1.21.1 in /usr/local/lib/python3.7/dist-packages (from requests>=2.26->yfinance) (1.24.3)\n"
     ]
    }
   ],
   "source": [
    "import pandas as pd\n",
    "!pip install yfinance\n",
    "import csv\n",
    "import yfinance as yf\n",
    "import seaborn as sns\n",
    "import matplotlib.pyplot as plt\n",
    "from sklearn.preprocessing import MinMaxScaler\n",
    "import numpy as np\n",
    "from keras.models import Sequential\n",
    "from keras.layers import *"
   ]
  },
  {
   "cell_type": "code",
   "source": [],
   "metadata": {
    "id": "DCFaoOGBNaAW",
    "colab": {
     "base_uri": "https://localhost:8080/"
    },
    "outputId": "1ae593c4-d297-42f1-c67f-e3642cfcecd2",
    "pycharm": {
     "is_executing": true
    }
   },
   "execution_count": null,
   "outputs": []
  },
  {
   "cell_type": "code",
   "source": [
    "# Get the fish data\n",
    "##### These files are for reference only, the actual files themselves can be found here under \"datafiler\": https://www.fiskeridir.no/Tall-og-analyse/AApne-data/Fangstdata-seddel-koblet-med-fartoeydata\n",
    "fields = ['Landingstidspunkt', 'Bruttovekt']\n",
    "df1 = pd.read_csv('fangstdata_2022.csv', sep=';', error_bad_lines=False, usecols=fields,)\n",
    "df2 = pd.read_csv('fangstdata_2021.csv', sep=';', error_bad_lines=False, usecols=fields,)\n",
    "df3 = pd.read_csv('fangstdata_2020.csv', sep=';', error_bad_lines=False, usecols=fields,)\n",
    "df4 = pd.read_csv('fangstdata_2019.csv', sep=';', error_bad_lines=False, usecols=fields,)\n",
    "df5 = pd.read_csv('fangstdata_2018.csv', sep=';', error_bad_lines=False, usecols=fields,)\n",
    "df6 = pd.read_csv('fangstdata_2017.csv', sep=';', error_bad_lines=False, usecols=fields,)\n",
    "df7 = pd.read_csv('fangstdata_2016.csv', sep=';', error_bad_lines=False, usecols=fields,)\n",
    "df8 = pd.read_csv('fangstdata_2015.csv', sep=';', error_bad_lines=False, usecols=fields,)\n"
   ],
   "metadata": {
    "colab": {
     "base_uri": "https://localhost:8080/"
    },
    "id": "vDYDK2n5hSul",
    "outputId": "8b9bbb5f-738c-4204-b66f-81a09221031d"
   },
   "execution_count": null,
   "outputs": [
    {
     "output_type": "stream",
     "name": "stderr",
     "text": [
      "/usr/local/lib/python3.7/dist-packages/IPython/core/interactiveshell.py:3326: FutureWarning: The error_bad_lines argument has been deprecated and will be removed in a future version.\n",
      "\n",
      "\n",
      "  exec(code_obj, self.user_global_ns, self.user_ns)\n",
      "/usr/local/lib/python3.7/dist-packages/IPython/core/interactiveshell.py:3326: DtypeWarning: Columns (118) have mixed types.Specify dtype option on import or set low_memory=False.\n",
      "  exec(code_obj, self.user_global_ns, self.user_ns)\n"
     ]
    }
   ]
  },
  {
   "cell_type": "code",
   "source": [
    "df = pd.concat([df1, df2, df3, df4, df5, df6])\n",
    "print(\"before\", df.head())\n",
    "\n",
    "df['Bruttovekt'] = df['Bruttovekt'].str.replace(',', '.').astype('float64')\n",
    "\n",
    "n = len(pd.unique(df['Landingstidspunkt']))\n",
    "\n",
    "df = df.groupby(['Landingstidspunkt']).sum().reset_index()\n",
    "\n",
    "df['Landingstidspunkt'] = pd.to_datetime(df['Landingstidspunkt'], dayfirst=True)\n",
    "df = df.sort_values(by=['Landingstidspunkt'], ascending=True)\n",
    "df.sort_values(by='Landingstidspunkt',ascending=False)\n",
    "df = df.groupby(['Landingstidspunkt']).sum().reset_index()\n",
    "df.index = df[\"Landingstidspunkt\"]\n",
    "#df.to_csv('output.csv', columns = fields)\n",
    "del df[\"Landingstidspunkt\"]\n",
    "fishData = df\n",
    "fishData.index = fishData.index.date\n",
    "print(\"after\", fishData)"
   ],
   "metadata": {
    "colab": {
     "base_uri": "https://localhost:8080/"
    },
    "id": "uFhh71Fm7ujr",
    "outputId": "047dd172-28a0-4ba7-8436-2f2ec08a69be"
   },
   "execution_count": null,
   "outputs": [
    {
     "output_type": "stream",
     "name": "stdout",
     "text": [
      "before   Landingstidspunkt Bruttovekt\n",
      "0        11.01.2022      15960\n",
      "1        19.01.2022      45846\n",
      "2        21.02.2022    1174337\n",
      "3        24.02.2022     498482\n",
      "4        24.02.2022     445022\n",
      "after             Bruttovekt\n",
      "2017-01-01     4711.50\n",
      "2017-01-02   945065.20\n",
      "2017-01-03  1033839.50\n",
      "2017-01-04  3987352.70\n",
      "2017-01-05  4122843.20\n",
      "...                ...\n",
      "2022-09-16  5042996.71\n",
      "2022-09-17  2922763.68\n",
      "2022-09-18   592341.29\n",
      "2022-09-19  2197123.82\n",
      "2022-09-23       95.00\n",
      "\n",
      "[2089 rows x 1 columns]\n"
     ]
    }
   ]
  },
  {
   "cell_type": "code",
   "source": [],
   "metadata": {
    "colab": {
     "base_uri": "https://localhost:8080/"
    },
    "id": "6TQB05192Ygc",
    "outputId": "57ae0df1-9361-4b58-9541-5ee9733ec92c"
   },
   "execution_count": null,
   "outputs": [
    {
     "output_type": "stream",
     "name": "stderr",
     "text": [
      "/usr/local/lib/python3.7/dist-packages/IPython/core/interactiveshell.py:3326: FutureWarning: The error_bad_lines argument has been deprecated and will be removed in a future version.\n",
      "\n",
      "\n",
      "  exec(code_obj, self.user_global_ns, self.user_ns)\n",
      "/usr/local/lib/python3.7/dist-packages/IPython/core/interactiveshell.py:3326: DtypeWarning: Columns (118) have mixed types.Specify dtype option on import or set low_memory=False.\n",
      "  exec(code_obj, self.user_global_ns, self.user_ns)\n"
     ]
    },
    {
     "output_type": "stream",
     "name": "stdout",
     "text": [
      "     Landingstidspunkt Bruttovekt\n",
      "0  24.02.2016 15:44:00     351395\n",
      "1  12.02.2016 10:11:00     195807\n",
      "2  25.02.2016 09:46:00     154961\n",
      "3  22.02.2016 20:08:00     486126\n",
      "4  14.03.2016 12:58:00    2618478\n",
      "after             Bruttovekt\n",
      "2017-01-01      4711.5\n",
      "2017-01-02    945065.2\n",
      "2017-01-03   1033839.5\n",
      "2017-01-04   3987352.7\n",
      "2017-01-05   4122843.2\n"
     ]
    }
   ]
  },
  {
   "cell_type": "code",
   "source": [
    "# Get stock data (y_train)\n",
    "ticker, stockName, startDatoPåDataYYYYMMDD = \"SALM.OL\", \"Salmar\", \"2017-01-01\"\n",
    "\n",
    "stockName = yf.Ticker(ticker)\n",
    "stockName = stockName.history(start=startDatoPåDataYYYYMMDD, end=\"2022-09-19\")\n",
    "stockName.index = pd.to_datetime(stockName.index).tz_convert(None).date\n",
    "\n",
    "\n",
    "del stockName[\"Dividends\"]\n",
    "del stockName[\"Stock Splits\"]\n",
    "del stockName[\"High\"]\n",
    "del stockName[\"Low\"]\n",
    "del stockName[\"Volume\"]\n",
    "del stockName[\"Close\"]\n",
    "\n",
    "print()\n",
    "print(stockName)\n"
   ],
   "metadata": {
    "id": "ynFNOFXFiDlc",
    "colab": {
     "base_uri": "https://localhost:8080/"
    },
    "outputId": "b76d0c32-8a9a-4b3a-c133-81ee15f37c11"
   },
   "execution_count": null,
   "outputs": [
    {
     "output_type": "stream",
     "name": "stdout",
     "text": [
      "\n",
      "                  Open\n",
      "2017-01-01  198.490503\n",
      "2017-01-02  198.876222\n",
      "2017-01-03  197.179077\n",
      "2017-01-04  194.479062\n",
      "2017-01-05  186.301827\n",
      "...                ...\n",
      "2022-09-11  630.500000\n",
      "2022-09-12  638.000000\n",
      "2022-09-13  631.500000\n",
      "2022-09-14  632.500000\n",
      "2022-09-15  618.000000\n",
      "\n",
      "[1433 rows x 1 columns]\n"
     ]
    }
   ]
  },
  {
   "cell_type": "code",
   "source": [
    "# merge datasets\n",
    "print(\"fishdata:\", fishData.shape)\n",
    "print(\"stockdata:\", stockName.shape)\n",
    "\n",
    "result = pd.merge(fishData, stockName, left_index=True, right_index=True)\n",
    "result.reset_index(inplace=True)\n",
    "print(result.shape)\n",
    "result.plot()"
   ],
   "metadata": {
    "id": "wQT3bqxKiPlz",
    "colab": {
     "base_uri": "https://localhost:8080/",
     "height": 344
    },
    "outputId": "f22f6856-181d-43a8-999e-6a0f3bf24e46"
   },
   "execution_count": null,
   "outputs": [
    {
     "output_type": "stream",
     "name": "stdout",
     "text": [
      "fishdata: (2089, 1)\n",
      "stockdata: (1433, 1)\n",
      "(1433, 3)\n"
     ]
    },
    {
     "output_type": "execute_result",
     "data": {
      "text/plain": [
       "<matplotlib.axes._subplots.AxesSubplot at 0x7fd48331a250>"
      ]
     },
     "metadata": {},
     "execution_count": 496
    },
    {
     "output_type": "display_data",
     "data": {
      "text/plain": [
       "<Figure size 432x288 with 1 Axes>"
      ],
      "image/png": "[encoded data removed]"
     },
     "metadata": {
      "needs_background": "light"
     }
    }
   ]
  },
  {
   "cell_type": "code",
   "source": [
    "sc = MinMaxScaler(feature_range=(0,1))\n",
    "\n",
    "fish_train = result.iloc[0:1300]\n",
    "fish_train_dates = fish_train['index']\n",
    "fish_test = result.iloc[1300:]\n",
    "fish_test_dates = fish_test['index']\n",
    "\n",
    "fish_test = result.iloc[1300:, 1:]\n",
    "fish_train = result.iloc[0:1300, 1:]\n",
    "print(fish_train.head)\n",
    "fish_train_scaled = sc.fit_transform(fish_train)\n",
    "fish_test_scaled = sc.fit_transform(fish_test)\n",
    "\n",
    "\n",
    "print(\"fish_train_scaled shape\", fish_train_scaled.shape)\n",
    "print(\"fish_test_scaled shape\", fish_test_scaled.shape)"
   ],
   "metadata": {
    "id": "SwAn4hzmiPtF",
    "colab": {
     "base_uri": "https://localhost:8080/"
    },
    "outputId": "b944bde7-8f50-45c4-a313-b81071968e52"
   },
   "execution_count": null,
   "outputs": [
    {
     "output_type": "stream",
     "name": "stdout",
     "text": [
      "<bound method NDFrame.head of       Bruttovekt        Open\n",
      "0        4711.50  198.490503\n",
      "1      945065.20  198.876222\n",
      "2     1033839.50  197.179077\n",
      "3     3987352.70  194.479062\n",
      "4     4122843.20  186.301827\n",
      "...          ...         ...\n",
      "1295  5929325.85  630.063103\n",
      "1296  5378268.56  639.568461\n",
      "1297  5599160.86  665.368434\n",
      "1298  6184994.32  644.806011\n",
      "1299  8851446.08  617.454122\n",
      "\n",
      "[1300 rows x 2 columns]>\n",
      "(133, 2)\n",
      "fish_train_scaled shape (1300, 2)\n",
      "fish_test_scaled shape (133, 2)\n"
     ]
    }
   ]
  },
  {
   "cell_type": "code",
   "source": [
    "sc2 = MinMaxScaler()\n",
    "fish_train_scaled_y = sc2.fit_transform(fish_train[['Open']])\n",
    "print(\"fish_train_scaled_y shape\", fish_train_scaled_y.shape)"
   ],
   "metadata": {
    "colab": {
     "base_uri": "https://localhost:8080/"
    },
    "id": "GYZ9RFQYuVRo",
    "outputId": "637ac600-d8a5-49b4-f734-5c68e9f478bd"
   },
   "execution_count": null,
   "outputs": [
    {
     "output_type": "stream",
     "name": "stdout",
     "text": [
      "fish_train_scaled_y shape (1300, 1)\n"
     ]
    }
   ]
  },
  {
   "cell_type": "code",
   "source": [
    "hops = 5\n",
    "no_entries = fish_train_scaled.shape[0]\n",
    "no_variables = 6\n",
    "X_train = []\n",
    "Y_train = []\n",
    "for i in range(hops, no_entries):\n",
    "    X_train.append(fish_train_scaled[i-hops:i, :1])\n",
    "    Y_train.append(fish_train_scaled_y[i][0])\n",
    "X_train, Y_train = np.array(X_train), np.array(Y_train)\n",
    "print(\"X_train shape\", X_train.shape)\n",
    "print(\"Y_train shape\", Y_train.shape)"
   ],
   "metadata": {
    "id": "LY_qZwOQiPxd",
    "colab": {
     "base_uri": "https://localhost:8080/"
    },
    "outputId": "e491de47-c2b7-469d-f929-b22a3a791402"
   },
   "execution_count": null,
   "outputs": [
    {
     "output_type": "stream",
     "name": "stdout",
     "text": [
      "X_train shape (1295, 5, 1)\n",
      "Y_train shape (1295,)\n"
     ]
    }
   ]
  },
  {
   "cell_type": "code",
   "source": [
    "# gotta turn into 3D array to fit model\n",
    "X_train_shape = np.reshape(X_train, (X_train.shape[0], X_train.shape[1], X_train.shape[2]))\n",
    "print(X_train_shape.shape)"
   ],
   "metadata": {
    "id": "FCPtouewiPz6",
    "colab": {
     "base_uri": "https://localhost:8080/"
    },
    "outputId": "93d5f4ff-316d-4e0c-ca14-5cff0103fb6a"
   },
   "execution_count": null,
   "outputs": [
    {
     "output_type": "stream",
     "name": "stdout",
     "text": [
      "(1295, 5, 1)\n"
     ]
    }
   ]
  },
  {
   "cell_type": "code",
   "source": [
    "model = Sequential()\n",
    "model.add(LSTM(units=50, return_sequences=True, input_shape=(hops, 1)))\n",
    "model.add(Dropout(0.2))\n",
    "model.add(LSTM(units=50))\n",
    "model.add(Dropout(0.2))\n",
    "model.add(Dense(1))\n",
    "model.compile(optimizer='adam', loss='mean_squared_error')"
   ],
   "metadata": {
    "id": "FXbK5X7xiP1_"
   },
   "execution_count": null,
   "outputs": []
  },
  {
   "cell_type": "code",
   "source": [
    "model = Sequential()\n",
    "model.add(LSTM(units=128, return_sequences=True, input_shape=(hops, 1)))\n",
    "model.add(Dropout(0.2))\n",
    "model.add(LSTM(units =128, activation='relu', return_sequences=True))\n",
    "model.add(Dropout(0.2))\n",
    "model.add(LSTM(units =128, activation='relu', return_sequences=False))\n",
    "model.add(Dropout(0.2))\n",
    "model.add(Dense(1))\n",
    "model.compile(optimizer='adam', loss='mean_squared_error')"
   ],
   "metadata": {
    "id": "tsA8ZaQf5Ean"
   },
   "execution_count": null,
   "outputs": []
  },
  {
   "cell_type": "code",
   "source": [
    "model = Sequential()\n",
    "model.add(InputLayer((hops,1)))\n",
    "model.add(LSTM(64))\n",
    "model.add(Dense(8, 'relu'))\n",
    "model.add(Dense(1, 'linear'))\n",
    "model.compile(optimizer='adam', loss='mean_squared_error')"
   ],
   "metadata": {
    "id": "CVLXbFaACIiR"
   },
   "execution_count": null,
   "outputs": []
  },
  {
   "cell_type": "code",
   "source": [
    "model.summary()"
   ],
   "metadata": {
    "id": "Wb17pOJ7wL9l"
   },
   "execution_count": null,
   "outputs": []
  },
  {
   "cell_type": "code",
   "source": [
    "model.fit(X_train_shape, Y_train, epochs=50, batch_size=10, validation_split=0.1)"
   ],
   "metadata": {
    "id": "urV2Zr6liP3r"
   },
   "execution_count": null,
   "outputs": []
  },
  {
   "cell_type": "code",
   "source": [
    "fish_train_last10 = fish_train.iloc[-hops:]\n",
    "full_df = pd.concat((fish_train_last10, fish_test), axis=0)\n",
    "print(full_df.shape)"
   ],
   "metadata": {
    "id": "ARF2OIGcibcw",
    "colab": {
     "base_uri": "https://localhost:8080/"
    },
    "outputId": "c9cabd3b-0692-41cc-ccee-e368b46bd8fe"
   },
   "execution_count": null,
   "outputs": [
    {
     "output_type": "stream",
     "name": "stdout",
     "text": [
      "(138, 2)\n"
     ]
    }
   ]
  },
  {
   "cell_type": "code",
   "source": [
    "full_df = sc.transform(full_df)\n",
    "print(full_df.shape)"
   ],
   "metadata": {
    "colab": {
     "base_uri": "https://localhost:8080/"
    },
    "id": "vFDLWAqDHC_Q",
    "outputId": "f852f00c-0ca0-4ec2-bd35-58028022069c"
   },
   "execution_count": null,
   "outputs": [
    {
     "output_type": "stream",
     "name": "stdout",
     "text": [
      "(138, 2)\n"
     ]
    }
   ]
  },
  {
   "cell_type": "code",
   "source": [
    "\n",
    "no_entries_test = full_df.shape[0]\n",
    "\n",
    "no_variables_test = 1\n",
    "X_train_shape_pred = []\n",
    "for i in range(hops, no_entries_test):\n",
    "    X_train_shape_pred.append(full_df[i-hops:i, :1])\n",
    "X_train_shape_pred = np.array(X_train_shape_pred)\n",
    "print(X_train_shape_pred.shape)"
   ],
   "metadata": {
    "id": "X6TAgjbzibgP",
    "colab": {
     "base_uri": "https://localhost:8080/"
    },
    "outputId": "75cafa10-7a88-4c3d-d9ca-caf5d8f6d9ed"
   },
   "execution_count": null,
   "outputs": [
    {
     "output_type": "stream",
     "name": "stdout",
     "text": [
      "(133, 5, 1)\n"
     ]
    }
   ]
  },
  {
   "cell_type": "code",
   "source": [
    "ytest = model.predict(X_train_shape_pred)"
   ],
   "metadata": {
    "id": "KVm6JZ2xiqfu",
    "colab": {
     "base_uri": "https://localhost:8080/"
    },
    "outputId": "98d2b7b6-66f8-455c-ec91-69c4ac303bff"
   },
   "execution_count": null,
   "outputs": [
    {
     "output_type": "stream",
     "name": "stdout",
     "text": [
      "5/5 [==============================] - 0s 5ms/step\n"
     ]
    }
   ]
  },
  {
   "cell_type": "code",
   "source": [
    "y_final_pred = sc2.inverse_transform(ytest)"
   ],
   "metadata": {
    "id": "vkSyN09FieFK"
   },
   "execution_count": null,
   "outputs": []
  },
  {
   "cell_type": "code",
   "source": [
    "final_price_pred = pd.DataFrame(y_final_pred)\n",
    "final_price_pred.columns = ['final_price_pred']\n",
    "final_price_pred.index = fish_test.index\n",
    "print(final_price_pred.shape)\n",
    "print(fish_test.shape)"
   ],
   "metadata": {
    "id": "vxyhcE59ieHb",
    "colab": {
     "base_uri": "https://localhost:8080/"
    },
    "outputId": "550537c1-77f7-4e91-a3dc-5f35426a91d3"
   },
   "execution_count": null,
   "outputs": [
    {
     "output_type": "stream",
     "name": "stdout",
     "text": [
      "(133, 1)\n",
      "(133, 2)\n"
     ]
    }
   ]
  },
  {
   "cell_type": "code",
   "source": [
    "final_thing = pd.concat((final_price_pred, fish_test), axis=1)\n",
    "print(final_thing.head())"
   ],
   "metadata": {
    "id": "rvfJN8-AieJX",
    "colab": {
     "base_uri": "https://localhost:8080/"
    },
    "outputId": "5ca10d0a-cc55-4f56-9155-70e4122ffbc4"
   },
   "execution_count": null,
   "outputs": [
    {
     "output_type": "stream",
     "name": "stdout",
     "text": [
      "      final_price_pred   Bruttovekt        Open\n",
      "1300        344.956329   9931669.58  595.339838\n",
      "1301        337.947540   7178720.05  578.851119\n",
      "1302        331.986694  16046212.23  607.172909\n",
      "1303        304.489075  13717850.32  608.530825\n",
      "1304        258.117249  14945620.21  623.661656\n"
     ]
    }
   ]
  },
  {
   "cell_type": "code",
   "source": [
    "final_thing['tomorrow'] = final_thing['final_price_pred'].shift(-1)\n",
    "final_thing['prediction'] = (final_thing['final_price_pred'] < final_thing['tomorrow']).astype(int)\n",
    "print(final_thing.head())"
   ],
   "metadata": {
    "id": "Jn4YBc63ibjG",
    "colab": {
     "base_uri": "https://localhost:8080/"
    },
    "outputId": "143dd62a-ee77-4b94-e9fd-19d585db6af2"
   },
   "execution_count": null,
   "outputs": [
    {
     "output_type": "stream",
     "name": "stdout",
     "text": [
      "      final_price_pred   Bruttovekt        Open    tomorrow  prediction\n",
      "1300        344.956329   9931669.58  595.339838  337.947540           0\n",
      "1301        337.947540   7178720.05  578.851119  331.986694           0\n",
      "1302        331.986694  16046212.23  607.172909  304.489075           0\n",
      "1303        304.489075  13717850.32  608.530825  258.117249           0\n",
      "1304        258.117249  14945620.21  623.661656  199.483582           0\n"
     ]
    }
   ]
  },
  {
   "cell_type": "code",
   "source": [
    "final_thing['actual_tomorrow'] = final_thing['Open'].shift(-1)\n",
    "final_thing['actual_change'] = (final_thing['actual_tomorrow'] > final_thing['Open']).astype(int)\n",
    "print(final_thing.head())"
   ],
   "metadata": {
    "colab": {
     "base_uri": "https://localhost:8080/"
    },
    "id": "O4dVTuLmhSvF",
    "outputId": "e33bc4a1-bd65-4b3c-ad85-5b9c5b16f636"
   },
   "execution_count": null,
   "outputs": [
    {
     "output_type": "stream",
     "name": "stdout",
     "text": [
      "      final_price_pred   Bruttovekt        Open    tomorrow  prediction  \\\n",
      "1300        344.956329   9931669.58  595.339838  337.947540           0   \n",
      "1301        337.947540   7178720.05  578.851119  331.986694           0   \n",
      "1302        331.986694  16046212.23  607.172909  304.489075           0   \n",
      "1303        304.489075  13717850.32  608.530825  258.117249           0   \n",
      "1304        258.117249  14945620.21  623.661656  199.483582           0   \n",
      "\n",
      "      actual_change  actual_tomorrow  \n",
      "1300              0       578.851119  \n",
      "1301              1       607.172909  \n",
      "1302              1       608.530825  \n",
      "1303              1       623.661656  \n",
      "1304              0       622.303734  \n"
     ]
    }
   ]
  },
  {
   "cell_type": "code",
   "source": [
    "final_thing['correct_prediction'] = (final_thing['actual_change'] == final_thing['prediction']).astype(int)\n",
    "print(final_thing.head())\n",
    "print(\"\\nprediction correctness:\", final_thing['correct_prediction'].mean())"
   ],
   "metadata": {
    "colab": {
     "base_uri": "https://localhost:8080/"
    },
    "id": "5XfkHF8giFkk",
    "outputId": "4ce031ea-590c-4004-a825-b0f76aea16b9"
   },
   "execution_count": null,
   "outputs": [
    {
     "output_type": "stream",
     "name": "stdout",
     "text": [
      "      final_price_pred   Bruttovekt        Open    tomorrow  prediction  \\\n",
      "1300        344.956329   9931669.58  595.339838  337.947540           0   \n",
      "1301        337.947540   7178720.05  578.851119  331.986694           0   \n",
      "1302        331.986694  16046212.23  607.172909  304.489075           0   \n",
      "1303        304.489075  13717850.32  608.530825  258.117249           0   \n",
      "1304        258.117249  14945620.21  623.661656  199.483582           0   \n",
      "\n",
      "      actual_change  actual_tomorrow  correct_prediction  \n",
      "1300              0       578.851119                   1  \n",
      "1301              1       607.172909                   0  \n",
      "1302              1       608.530825                   0  \n",
      "1303              1       623.661656                   0  \n",
      "1304              0       622.303734                   1  \n",
      "\n",
      "prediction correctness: 0.5263157894736842\n"
     ]
    }
   ]
  }
 ]
}